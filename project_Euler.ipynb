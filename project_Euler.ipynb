{
  "nbformat": 4,
  "nbformat_minor": 0,
  "metadata": {
    "colab": {
      "provenance": []
    },
    "kernelspec": {
      "name": "python3",
      "display_name": "Python 3"
    }
  },
  "cells": [
    {
      "cell_type": "code",
      "metadata": {
        "id": "-WSkHxBeXLu2",
        "outputId": "ec2d12ed-448c-4cef-a970-5d50230c435d",
        "colab": {
          "base_uri": "https://localhost:8080/",
          "height": 35
        }
      },
      "source": [
        "2**82,589,933-1"
      ],
      "execution_count": null,
      "outputs": [
        {
          "output_type": "execute_result",
          "data": {
            "text/plain": [
              "(4835703278458516698824704, 589, 932)"
            ]
          },
          "metadata": {
            "tags": []
          },
          "execution_count": 6
        }
      ]
    },
    {
      "cell_type": "code",
      "metadata": {
        "id": "WGbJhXUPWcub",
        "outputId": "b317f972-2060-4cfc-c1e9-2a7ddbcf0af1",
        "colab": {
          "base_uri": "https://localhost:8080/",
          "height": 248
        }
      },
      "source": [
        "# Python program to display all the prime numbers within an interval\n",
        "\n",
        "# change the values of lower and upper for a different result\n",
        "lower = 0\n",
        "upper = 2000000\n",
        "# uncomment the following lines to take input from the user\n",
        "#lower = int(input(\"Enter lower range: \"))\n",
        "#upper = int(input(\"Enter upper range: \"))\n",
        "\n",
        "print(\"Prime numbers between\",lower,\"and\",upper,\"are:\")\n",
        "lst=[]\n",
        "for num in range(lower,upper + 1):\n",
        "   # prime numbers are greater than 1\n",
        "   if num > 1:\n",
        "       for i in range(2,num):\n",
        "           if (num % i) == 0:\n",
        "               break\n",
        "       else:\n",
        "         lst.append(num)\n",
        "         a=(sum(lst))\n",
        "         \n"
      ],
      "execution_count": null,
      "outputs": [
        {
          "output_type": "stream",
          "text": [
            "Prime numbers between 0 and 2000000 are:\n"
          ],
          "name": "stdout"
        },
        {
          "output_type": "error",
          "ename": "KeyboardInterrupt",
          "evalue": "ignored",
          "traceback": [
            "\u001b[0;31m---------------------------------------------------------------------------\u001b[0m",
            "\u001b[0;31mKeyboardInterrupt\u001b[0m                         Traceback (most recent call last)",
            "\u001b[0;32m<ipython-input-5-27988b3cb80f>\u001b[0m in \u001b[0;36m<module>\u001b[0;34m()\u001b[0m\n\u001b[1;32m     11\u001b[0m    \u001b[0;32mif\u001b[0m \u001b[0mnum\u001b[0m \u001b[0;34m>\u001b[0m \u001b[0;36m1\u001b[0m\u001b[0;34m:\u001b[0m\u001b[0;34m\u001b[0m\u001b[0;34m\u001b[0m\u001b[0m\n\u001b[1;32m     12\u001b[0m        \u001b[0;32mfor\u001b[0m \u001b[0mi\u001b[0m \u001b[0;32min\u001b[0m \u001b[0mrange\u001b[0m\u001b[0;34m(\u001b[0m\u001b[0;36m2\u001b[0m\u001b[0;34m,\u001b[0m\u001b[0mnum\u001b[0m\u001b[0;34m)\u001b[0m\u001b[0;34m:\u001b[0m\u001b[0;34m\u001b[0m\u001b[0;34m\u001b[0m\u001b[0m\n\u001b[0;32m---> 13\u001b[0;31m            \u001b[0;32mif\u001b[0m \u001b[0;34m(\u001b[0m\u001b[0mnum\u001b[0m \u001b[0;34m%\u001b[0m \u001b[0mi\u001b[0m\u001b[0;34m)\u001b[0m \u001b[0;34m==\u001b[0m \u001b[0;36m0\u001b[0m\u001b[0;34m:\u001b[0m\u001b[0;34m\u001b[0m\u001b[0;34m\u001b[0m\u001b[0m\n\u001b[0m\u001b[1;32m     14\u001b[0m                \u001b[0;32mbreak\u001b[0m\u001b[0;34m\u001b[0m\u001b[0;34m\u001b[0m\u001b[0m\n\u001b[1;32m     15\u001b[0m        \u001b[0;32melse\u001b[0m\u001b[0;34m:\u001b[0m\u001b[0;34m\u001b[0m\u001b[0;34m\u001b[0m\u001b[0m\n",
            "\u001b[0;31mKeyboardInterrupt\u001b[0m: "
          ]
        }
      ]
    },
    {
      "cell_type": "code",
      "metadata": {
        "id": "hHC_6RMIOjAj",
        "outputId": "f9720795-f317-4a50-a314-ba51defe20aa",
        "colab": {
          "base_uri": "https://localhost:8080/",
          "height": 34
        }
      },
      "source": [
        "# Python3 program of the approach \n",
        "MAX_SIZE = 2000000\n",
        "primes = [] \n",
        "  \n",
        "# Function to generate N prime numbers using \n",
        "# Sieve of Eratosthenes \n",
        "def SieveOfEratosthenes(): \n",
        "      \n",
        "    # Create a boolean array \"IsPrime[0..MAX_SIZE]\" and \n",
        "    # initialize all entries it as True. A value in \n",
        "    # IsPrime[i] will finally be false if i is \n",
        "    # Not a IsPrime, else True. \n",
        "    IsPrime = [True] * MAX_SIZE \n",
        "    p = 2\n",
        "  \n",
        "    while p * p < MAX_SIZE: \n",
        "          \n",
        "        # If IsPrime[p] is not changed, then it is a prime \n",
        "        if (IsPrime[p] == True): \n",
        "              \n",
        "            # Update all multiples of p greater than or \n",
        "            # equal to the square of it \n",
        "            # numbers which are multiple of p and are \n",
        "            # less than p^2 are already been marked. \n",
        "            for i in range(p * p, MAX_SIZE, p): \n",
        "                IsPrime[i] = False\n",
        "        p += 1\n",
        "  \n",
        "    # Store all prime numbers \n",
        "    for p in range(2, MAX_SIZE): \n",
        "        if (IsPrime[p]): \n",
        "            primes.append(p) \n",
        "  \n",
        "def printLevel(level): \n",
        "  \n",
        "    print(\"primes at level \", level, \":\", end=\" \") \n",
        "    left_index = pow(2, level - 1) \n",
        "    right_index = pow(2, level) - 1\n",
        "    for i in range(left_index, right_index + 1): \n",
        "  \n",
        "        print(primes[i - 1], end=\" \") \n",
        "    print() \n",
        "  \n",
        "# Driver Code \n",
        "  \n",
        "# Function call \n",
        "SieveOfEratosthenes() \n",
        "  \n",
        "printLevel(4)\n",
        " "
      ],
      "execution_count": null,
      "outputs": [
        {
          "output_type": "stream",
          "text": [
            "primes at level  4 : 19 23 29 31 37 41 43 47 \n"
          ],
          "name": "stdout"
        }
      ]
    },
    {
      "cell_type": "code",
      "metadata": {
        "id": "uvsx2JibWqCN",
        "outputId": "9a61bdf1-9653-46f4-a740-ddde4d938f07",
        "colab": {
          "base_uri": "https://localhost:8080/",
          "height": 34
        }
      },
      "source": [
        "sum(primes)"
      ],
      "execution_count": null,
      "outputs": [
        {
          "output_type": "execute_result",
          "data": {
            "text/plain": [
              "142913828922"
            ]
          },
          "metadata": {
            "tags": []
          },
          "execution_count": 25
        }
      ]
    },
    {
      "cell_type": "code",
      "metadata": {
        "id": "97zQBNLDWp7N"
      },
      "source": [
        "def nth_prime_number(n):\n",
        "    # initial prime number list\n",
        "    prime_list = [2]\n",
        "    # first number to test if prime\n",
        "    num = 3\n",
        "    # keep generating primes until we get to the nth one\n",
        "    while len(prime_list) < n:\n",
        "\n",
        "        # check if num is divisible by any prime before it\n",
        "        for p in prime_list:\n",
        "            # if there is no remainder dividing the number\n",
        "            # then the number is not a prime\n",
        "            if num % p == 0:\n",
        "                # break to stop testing more numbers, we know it's not a prime\n",
        "                break\n",
        "\n",
        "        # if it is a prime, then add it to the list\n",
        "        # after a for loop, else runs if the \"break\" command has not been given\n",
        "        else:\n",
        "            # append to prime list\n",
        "            prime_list.append(num)\n",
        "\n",
        "        # same optimization you had, don't check even numbers\n",
        "        num += 2\n",
        "\n",
        "    # return the last prime number generated\n",
        "    return prime_list[-1]"
      ],
      "execution_count": null,
      "outputs": []
    },
    {
      "cell_type": "code",
      "metadata": {
        "id": "GZ_shGzWWpxV",
        "outputId": "b47743ea-0f1c-4269-c0e3-0159a29b0db8",
        "colab": {
          "base_uri": "https://localhost:8080/",
          "height": 163
        }
      },
      "source": [
        "nth_prime_number(20000000)"
      ],
      "execution_count": null,
      "outputs": [
        {
          "output_type": "error",
          "ename": "NameError",
          "evalue": "ignored",
          "traceback": [
            "\u001b[0;31m---------------------------------------------------------------------------\u001b[0m",
            "\u001b[0;31mNameError\u001b[0m                                 Traceback (most recent call last)",
            "\u001b[0;32m<ipython-input-7-a5054ced60df>\u001b[0m in \u001b[0;36m<module>\u001b[0;34m()\u001b[0m\n\u001b[0;32m----> 1\u001b[0;31m \u001b[0mnth_prime_number\u001b[0m\u001b[0;34m(\u001b[0m\u001b[0;36m20000000\u001b[0m\u001b[0;34m)\u001b[0m\u001b[0;34m\u001b[0m\u001b[0;34m\u001b[0m\u001b[0m\n\u001b[0m",
            "\u001b[0;31mNameError\u001b[0m: name 'nth_prime_number' is not defined"
          ]
        }
      ]
    },
    {
      "cell_type": "code",
      "metadata": {
        "id": "Q1NUNi4oaNC0",
        "outputId": "28ac7a83-d553-4a96-8fb2-717fd5023c69",
        "colab": {
          "base_uri": "https://localhost:8080/",
          "height": 35
        }
      },
      "source": [
        "s = \"7316717653133062491922511967442657474235534919493496983520312774506326239578318016984801869478851843858615607891129494954595017379583319528532088055111254069874715852386305071569329096329522744304355766896648950445244523161731856403098711121722383113622298934233803081353362766142828064444866452387493035890729629049156044077239071381051585930796086670172427121883998797908792274921901699720888093776657273330010533678812202354218097512545405947522435258490771167055601360483958644670632441572215539753697817977846174064955149290862569321978468622482839722413756570560574902614079729686524145351004748216637048440319989000889524345065854122758866688116427171479924442928230863465674813919123162824586178664583591245665294765456828489128831426076900422421902267105562632111110937054421750694165896040807198403850962455444362981230987879927244284909188845801561660979191338754992005240636899125607176060588611646710940507754100225698315520005593572972571636269561882670428252483600823257530420752963450\"\n",
        "     \n",
        "largestProduct = 0\n",
        "\n",
        "for i in range(0, len(s) - 13):\n",
        "\n",
        "    product = 1\n",
        "\n",
        "    for j in range(i, i + 13):\n",
        "        product *= int(s[j: j + 1])\n",
        "\n",
        "    if product > largestProduct:\n",
        "        largestProduct = product\n",
        "\n",
        "print (largestProduct)"
      ],
      "execution_count": null,
      "outputs": [
        {
          "output_type": "stream",
          "text": [
            "23514624000\n"
          ],
          "name": "stdout"
        }
      ]
    },
    {
      "cell_type": "code",
      "metadata": {
        "id": "UrbyDDYoa85f",
        "outputId": "913b052b-f55a-40c1-e069-a21ddd9a7e30",
        "colab": {
          "base_uri": "https://localhost:8080/",
          "height": 72
        }
      },
      "source": [
        "import time\n",
        "start = time.time()\n",
        "\n",
        "def pythag(a, b, c):\n",
        "    if a ** 2 + b ** 2 == c ** 2:\n",
        "        return True\n",
        "    return False\n",
        "\n",
        "a = [x for x in range(1, 1000)]\n",
        "\n",
        "for num in a:\n",
        "    for dig in range(num, 1000 - num):\n",
        "        for i in range(dig, 1000 - dig):\n",
        "            if num + dig + i == 1000:\n",
        "                if pythag(num, dig, i):\n",
        "                    print(num, dig, i)\n",
        "                    print(\"Product: {}\".format(num * dig * i))\n",
        "                    elapsed = time.time() - start\n",
        "                    print(\"Time: {:.5f} seconds\".format(elapsed))\n",
        "                    exit(1)\n",
        "                                        "
      ],
      "execution_count": null,
      "outputs": [
        {
          "output_type": "stream",
          "text": [
            "200 375 425\n",
            "Product: 31875000\n",
            "Time: 4.44528 seconds\n"
          ],
          "name": "stdout"
        }
      ]
    },
    {
      "cell_type": "code",
      "metadata": {
        "id": "6kO3M7Zfa82Y"
      },
      "source": [
        "\n",
        "# Python3 program to find  \n",
        "# Pythagorean Triplet of  \n",
        "# given sum. \n",
        "  \n",
        "def pythagoreanTriplet(n): \n",
        "  \n",
        "    # Considering triplets in  \n",
        "    # sorted order. The value  \n",
        "    # of first element in sorted  \n",
        "    # triplet can be at-most n/3. \n",
        "    for i in range(1, int(n / 3) + 1):  \n",
        "          \n",
        "        # The value of second element  \n",
        "        # must be less than equal to n/2 \n",
        "        for j in range(i + 1,  \n",
        "                       int(n / 2) + 1):  \n",
        "  \n",
        "            k = n - i - j \n",
        "            if (i * i + j * j == k * k):  \n",
        "                print(i, \", \", j, \", \",  \n",
        "                               k, sep = \"\") \n",
        "                return\n",
        "      \n",
        "    print(\"No Triplet\")"
      ],
      "execution_count": null,
      "outputs": []
    },
    {
      "cell_type": "code",
      "metadata": {
        "id": "CnLwcFU0a8y_",
        "outputId": "a2a32f5c-b6d0-4dc9-8a76-637dc3b77555",
        "colab": {
          "base_uri": "https://localhost:8080/",
          "height": 34
        }
      },
      "source": [
        "pythagoreanTriplet(1000)"
      ],
      "execution_count": null,
      "outputs": [
        {
          "output_type": "stream",
          "text": [
            "200, 375, 425\n"
          ],
          "name": "stdout"
        }
      ]
    },
    {
      "cell_type": "code",
      "metadata": {
        "id": "v6NOYDVGa8vm",
        "outputId": "a1e4174f-23fe-4455-a52d-553b731a862c",
        "colab": {
          "base_uri": "https://localhost:8080/",
          "height": 34
        }
      },
      "source": [
        "200*375*425"
      ],
      "execution_count": null,
      "outputs": [
        {
          "output_type": "execute_result",
          "data": {
            "text/plain": [
              "31875000"
            ]
          },
          "metadata": {
            "tags": []
          },
          "execution_count": 3
        }
      ]
    },
    {
      "cell_type": "code",
      "metadata": {
        "id": "jY4eInSOa8rn"
      },
      "source": [
        "'08 02 22 97 38 15 00 40 00 75 04 05 07 78 52 12 50 77 91 08' \n",
        "'49 49 99 40 17 81 18 57 60 87 17 40 98 43 69 48 04 56 62 00'\n",
        "'81 49 31 73 55 79 14 29 93 71 40 67 53 88 30 03 49 13 36 65'\n",
        "'52 70 95 23 04 60 11 42 69 24 68 56 01 32 56 71 37 02 36 91'\n",
        "'22 31 16 71 51 67 63 89 41 92 36 54 22 40 40 28 66 33 13 80'\n",
        "'24 47 32 60 99 03 45 02 44 75 33 53 78 36 84 20 35 17 12 50'\n",
        "'32 98 81 28 64 23 67 10 26 38 40 67 59 54 70 66 18 38 64 70'\n",
        "'67 26 20 68 02 62 12 20 95 63 94 39 63 08 40 91 66 49 94 21'\n",
        "'24 55 58 05 66 73 99 26 97 17 78 78 96 83 14 88 34 89 63 72'\n",
        "'21 36 23 09 75 00 76 44 20 45 35 14 00 61 33 97 34 31 33 95'\n",
        "'78 17 53 28 22 75 31 67 15 94 03 80 04 62 16 14 09 53 56 92'\n",
        "'16 39 05 42 96 35 31 47 55 58 88 24 00 17 54 24 36 29 85 57'\n",
        "'86 56 00 48 35 71 89 07 05 44 44 37 44 60 21 58 51 54 17 58'\n",
        "'19 80 81 68 05 94 47 69 28 73 92 13 86 52 17 77 04 89 55 40'\n",
        "'04 52 08 83 97 35 99 16 07 97 57 32 16 26 26 79 33 27 98 66'\n",
        "'88 36 68 87 57 62 20 72 03 46 33 67 46 55 12 32 63 93 53 69'\n",
        "'04 42 16 73 38 25 39 11 24 94 72 18 08 46 29 32 40 62 76 36'\n",
        "'20 69 36 41 72 30 23 88 34 62 99 69 82 67 59 85 74 04 36 16'\n",
        "'20 73 35 29 78 31 90 01 74 31 49 71 48 86 81 16 23 57 05 54'\n",
        "'01 70 54 71 83 51 54 69 16 92 33 48 61 43 52 01 89 19 67 48' "
      ],
      "execution_count": null,
      "outputs": []
    },
    {
      "cell_type": "code",
      "metadata": {
        "id": "W4-TKCxJa8oG"
      },
      "source": [],
      "execution_count": null,
      "outputs": []
    },
    {
      "cell_type": "code",
      "metadata": {
        "id": "OSiIvkbUa8kv"
      },
      "source": [],
      "execution_count": null,
      "outputs": []
    },
    {
      "cell_type": "code",
      "metadata": {
        "id": "YNEIQNhMdGcK"
      },
      "source": [],
      "execution_count": null,
      "outputs": []
    },
    {
      "cell_type": "code",
      "metadata": {
        "id": "u6a8oaGPdGZS"
      },
      "source": [],
      "execution_count": null,
      "outputs": []
    },
    {
      "cell_type": "code",
      "metadata": {
        "id": "BG5qGXXbdGV5"
      },
      "source": [],
      "execution_count": null,
      "outputs": []
    },
    {
      "cell_type": "code",
      "metadata": {
        "id": "DqX62z1mdGSA"
      },
      "source": [],
      "execution_count": null,
      "outputs": []
    },
    {
      "cell_type": "code",
      "metadata": {
        "id": "lp_xjCmCdGMA"
      },
      "source": [],
      "execution_count": null,
      "outputs": []
    },
    {
      "cell_type": "code",
      "metadata": {
        "id": "KTKNqphDdGIH"
      },
      "source": [],
      "execution_count": null,
      "outputs": []
    },
    {
      "cell_type": "code",
      "metadata": {
        "id": "YIs4W9hNdGEV"
      },
      "source": [],
      "execution_count": null,
      "outputs": []
    },
    {
      "cell_type": "code",
      "metadata": {
        "id": "uBDpjLY5dGA1"
      },
      "source": [],
      "execution_count": null,
      "outputs": []
    },
    {
      "cell_type": "code",
      "metadata": {
        "id": "R6AJuRr_dF82"
      },
      "source": [],
      "execution_count": null,
      "outputs": []
    },
    {
      "cell_type": "code",
      "metadata": {
        "id": "rpVZTecXdFzn"
      },
      "source": [],
      "execution_count": null,
      "outputs": []
    }
  ]
}