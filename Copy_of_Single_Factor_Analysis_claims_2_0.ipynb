{
  "nbformat": 4,
  "nbformat_minor": 0,
  "metadata": {
    "colab": {
      "provenance": []
    },
    "kernelspec": {
      "display_name": "Python 3",
      "language": "python",
      "name": "python3"
    },
    "language_info": {
      "codemirror_mode": {
        "name": "ipython",
        "version": 3
      },
      "file_extension": ".py",
      "mimetype": "text/x-python",
      "name": "python",
      "nbconvert_exporter": "python",
      "pygments_lexer": "ipython3",
      "version": "3.7.4"
    }
  },
  "cells": [
    {
      "cell_type": "markdown",
      "metadata": {
        "id": "GPK61iqrxxzn"
      },
      "source": [
        "# Single Factor Analysis"
      ]
    },
    {
      "cell_type": "markdown",
      "metadata": {
        "id": "EE_okG4qxxzt"
      },
      "source": [
        "The single factor analysis will consist of:\n",
        "* **Significant Features** - whether a single feature is significant to predict the course score\n",
        "* **Significant Categories within Features** - whether there is a significant difference in course score between different groups "
      ]
    },
    {
      "cell_type": "code",
      "metadata": {
        "id": "iD6xV0Qoxxz0"
      },
      "source": [
        "import pandas as pd\n",
        "import matplotlib.pyplot as plt\n",
        "import numpy as np\n",
        "import seaborn as sns\n",
        "%matplotlib inline"
      ],
      "execution_count": null,
      "outputs": []
    },
    {
      "cell_type": "code",
      "metadata": {
        "id": "06K82t44xx0Z"
      },
      "source": [
        "# Read linked dataset in and few first few entries\n",
        "df = pd.read_csv('claims_data.csv')\n",
        "# insert column 'id' at location 0 \n",
        "df.insert(0,'id',np.arange(0,1338))\n",
        "# set id as index\n",
        "df.set_index('id',inplace=True)"
      ],
      "execution_count": null,
      "outputs": []
    },
    {
      "cell_type": "code",
      "metadata": {
        "id": "cBDNGmzNxx0r",
        "outputId": "ecf51fd6-01f2-47eb-d04e-b7f126b5457c"
      },
      "source": [
        "# Create figure and axes\n",
        "f, a = plt.subplots(figsize = (10,10))\n",
        "\n",
        "# Create heatmap of correlations\n",
        "sns.heatmap(data=df.corr(), annot=True)"
      ],
      "execution_count": null,
      "outputs": [
        {
          "output_type": "execute_result",
          "data": {
            "text/plain": [
              "<matplotlib.axes._subplots.AxesSubplot at 0x20ba26170c8>"
            ]
          },
          "metadata": {
            "tags": []
          },
          "execution_count": 5
        },
        {
          "output_type": "display_data",
          "data": {
            "image/png": "[encoded data removed]",
            "text/plain": [
              "<Figure size 720x720 with 2 Axes>"
            ]
          },
          "metadata": {
            "tags": [],
            "needs_background": "light"
          }
        }
      ]
    },
    {
      "cell_type": "code",
      "metadata": {
        "id": "FM_b9h-7xx1V"
      },
      "source": [
        "# Lables\n",
        "y = df['claim_amount']\n",
        "\n",
        "# Features\n",
        "X = df.drop(['claim_amount', 'insurance_claim'], axis=1)"
      ],
      "execution_count": null,
      "outputs": []
    },
    {
      "cell_type": "markdown",
      "metadata": {
        "id": "M-89m36jxx1n"
      },
      "source": [
        "All input data for computing purposes needs to be numbers. We therefore have to transfrom the text data into numbers before we can test for significance. \n",
        "\n",
        "For that we use a pandas method called `get_dummies`. The text data are categorial variables. `get_dummies` will transform all the categorical text data into numbers. It will store the values as 0's and 1's by creating n columns for each variable with n categories."
      ]
    },
    {
      "cell_type": "code",
      "metadata": {
        "id": "JpyrWGJIxx1r"
      },
      "source": [
        "X = pd.get_dummies(X)"
      ],
      "execution_count": null,
      "outputs": []
    },
    {
      "cell_type": "markdown",
      "metadata": {
        "id": "WiRVJ5fXxx2S"
      },
      "source": [
        "## Significant Features"
      ]
    },
    {
      "cell_type": "markdown",
      "metadata": {
        "id": "SAIzKAirxx2W"
      },
      "source": [
        "In the first part of our single factor analysis we will identify the features that are significant in predicting the course score. Each factor will be considered in isolation (i.e. only one feature used to predict). \n",
        "\n",
        "This technique is known as the **Hypothesis Test for the Regression Slope** and work as follows:\n",
        "\n",
        "**STEP 1:** \n",
        "\n",
        "Using simple linear regression, find the slope ($\\beta$) in the equation: \n",
        "\n",
        "$$ y = \\alpha + \\beta x$$ \n",
        "\n",
        "Where $y$ is the dependent variable (course score), $x$ is the independent variable (single feature to test) and $\\alpha$ is  the intercept.\n",
        "    \n",
        "\n",
        "\n",
        "**STEP 2:**\n",
        "\n",
        "Perform a hypothesis test to find if $\\beta$ is different from zero:\n",
        "\n",
        "$$H_0: \\beta = 0$$\n",
        "$$H_1: \\beta \\neq 0$$\n",
        "\n",
        "The null hypothesis states that the slope is equal to zero, while the alternative hypothesis states that it is not equal to zero. If we find that the slope of the regression line is significantly different from zero, we will conclude that there is a significant relationship between the independent and dependent variables. We will make our conclusion by looking at the p-value of the test statistic."
      ]
    },
    {
      "cell_type": "markdown",
      "metadata": {
        "id": "EmDbUZ4Xxx2Z"
      },
      "source": [
        "----------------------------------------------------------------------------"
      ]
    },
    {
      "cell_type": "markdown",
      "metadata": {
        "id": "FsXr7dNHxx2d"
      },
      "source": [
        "Let's try this with our data. We need to import the `api` module from the `statsmodels` library - which we will use to perform both of the above mentioned steps."
      ]
    },
    {
      "cell_type": "code",
      "metadata": {
        "id": "1eedqm22xx2l"
      },
      "source": [
        "import statsmodels.api as sm"
      ],
      "execution_count": null,
      "outputs": []
    },
    {
      "cell_type": "markdown",
      "metadata": {
        "id": "LYndKaf6xx20"
      },
      "source": [
        "*STEP 1* will be performed using the `OLS` class, which stands for ordinary least squares (an optimisation method for simple linear regression). We then fit the model by applying the `fit()` method on the instance of our class. This will create estimates for the intercept and slope."
      ]
    },
    {
      "cell_type": "code",
      "metadata": {
        "id": "9At68rfNxx2-",
        "outputId": "e1212c37-b950-4d67-ab21-f9322005f289"
      },
      "source": [
        "# Create linear fit - input dependent and independent variables in the OLS class\n",
        "regression = sm.OLS(y, sm.add_constant(X[['sex_female']])).fit()"
      ],
      "execution_count": null,
      "outputs": [
        {
          "output_type": "stream",
          "text": [
            "C:\\ProgramData\\Anaconda3\\lib\\site-packages\\numpy\\core\\fromnumeric.py:2389: FutureWarning: Method .ptp is deprecated and will be removed in a future version. Use numpy.ptp instead.\n",
            "  return ptp(axis=axis, out=out, **kwargs)\n"
          ],
          "name": "stderr"
        }
      ]
    },
    {
      "cell_type": "code",
      "metadata": {
        "id": "hdm-Fnx7xx3R",
        "outputId": "e37eb92e-20fd-49f2-bb89-ed9c1a227f12"
      },
      "source": [
        "# Get coefficient/slope of \"age\"\n",
        "regression.params[1]"
      ],
      "execution_count": null,
      "outputs": [
        {
          "output_type": "execute_result",
          "data": {
            "text/plain": [
              "-2155.033184331628"
            ]
          },
          "metadata": {
            "tags": []
          },
          "execution_count": 20
        }
      ]
    },
    {
      "cell_type": "markdown",
      "metadata": {
        "id": "s66yJ6xjzX4j"
      },
      "source": [
        "We can see that the slope is -2155.03 but is that significant?To test that we perform STEP 2 -the hypothesis test.\n",
        "\n",
        "To quickly refresh our memories about hypothesis testing: We must calculate a test statistic under the null hypothesis and then calculate the p-value. If the p-value is lower than a significance level  a  then we reject the null hypothesis in favour of the alternative hypothesis at that level. For this tutorial our tests will focus on a significance level of 5%."
      ]
    },
    {
      "cell_type": "code",
      "metadata": {
        "id": "EaEASyejxx3e",
        "outputId": "e6fb6504-9980-48da-c598-d428ff0127fb"
      },
      "source": [
        "regression.tvalues[1]"
      ],
      "execution_count": null,
      "outputs": [
        {
          "output_type": "execute_result",
          "data": {
            "text/plain": [
              "-2.9384766541516134"
            ]
          },
          "metadata": {
            "tags": []
          },
          "execution_count": 21
        }
      ]
    },
    {
      "cell_type": "markdown",
      "metadata": {
        "id": "_SDzAuLp0Ndg"
      },
      "source": [
        "The test statistic is -2.938, but we have to calculate the p-value to find out if this is significant. The p-value is calculated by using the pvalue method on the \"regression\" variable."
      ]
    },
    {
      "cell_type": "code",
      "metadata": {
        "id": "vPuH71DVxx4G",
        "outputId": "62bc62ed-dcd9-4577-94d3-ed52eef4ffaf"
      },
      "source": [
        "regression.pvalues[1]"
      ],
      "execution_count": null,
      "outputs": [
        {
          "output_type": "execute_result",
          "data": {
            "text/plain": [
              "0.003354912845977785"
            ]
          },
          "metadata": {
            "tags": []
          },
          "execution_count": 22
        }
      ]
    },
    {
      "cell_type": "markdown",
      "metadata": {
        "id": "5DqaJ3gt0bvv"
      },
      "source": [
        "The p-value is 0.34%, which is significant at a significance level of 5%."
      ]
    },
    {
      "cell_type": "markdown",
      "metadata": {
        "id": "AmKZ-iIV0ujJ"
      },
      "source": [
        "# Test all variables one-by-one\n",
        "Going through the process above for each feature gets quite tedious when we have many features. So let's write a for loop to repeat the process for all of our features in our recruitment dataset and then add all of the information in a pandas dataframe."
      ]
    },
    {
      "cell_type": "code",
      "metadata": {
        "scrolled": true,
        "id": "QQpaAl54xx48",
        "outputId": "a03330df-273c-4859-b472-272d2fb1e414"
      },
      "source": [
        "# Use all column names\n",
        "X.columns"
      ],
      "execution_count": null,
      "outputs": [
        {
          "output_type": "execute_result",
          "data": {
            "text/plain": [
              "Index(['age', 'bmi', 'steps', 'children', 'sex_female', 'sex_male',\n",
              "       'smoker_no', 'smoker_yes', 'region_northeast', 'region_northwest',\n",
              "       'region_southeast', 'region_southwest'],\n",
              "      dtype='object')"
            ]
          },
          "metadata": {
            "tags": []
          },
          "execution_count": 13
        }
      ]
    },
    {
      "cell_type": "code",
      "metadata": {
        "id": "uf2Phx40xx5W",
        "outputId": "2d5d20d2-7380-4054-ce22-5401920348cd"
      },
      "source": [
        "# Create a list of the feature names - which will be used in our final dataframe\n",
        "feature_names =['age', 'bmi', 'steps', 'children', 'sex_female', 'sex_male',\n",
        "       'smoker_no', 'smoker_yes', 'region_northeast', 'region_northwest',\n",
        "       'region_southeast', 'region_southwest']\n",
        "# Create a empty list g, which will be appended with information of each feature\n",
        "g = []\n",
        "\n",
        "# For loop to do the following for all features:\n",
        "# 1) fit the regression line\n",
        "# 2) calculate parameters, test statistic and p-value\n",
        "# 3) add 2) to a list\n",
        "for column in X:\n",
        "    regression = sm.OLS(y, sm.add_constant(X[[column]])).fit()\n",
        "    regression_params = regression.params[1]\n",
        "    regression_tvalues = regression.tvalues[1]\n",
        "    regression_pvalues = regression.pvalues[1]\n",
        "    \n",
        "    g.append([regression_params, regression_tvalues, regression_pvalues])\n",
        "\n",
        "# Create dataframe with coefficient, t statistc and p-value per feature and sort by p-value\n",
        "g = pd.DataFrame(data=np.array(g).reshape(12,3), index=feature_names, columns=['Coefficient', 't statistic', 'p value'])\n",
        "g.sort_values(by='p value')"
      ],
      "execution_count": null,
      "outputs": [
        {
          "output_type": "stream",
          "text": [
            "C:\\ProgramData\\Anaconda3\\lib\\site-packages\\numpy\\core\\fromnumeric.py:2389: FutureWarning: Method .ptp is deprecated and will be removed in a future version. Use numpy.ptp instead.\n",
            "  return ptp(axis=axis, out=out, **kwargs)\n",
            "C:\\ProgramData\\Anaconda3\\lib\\site-packages\\numpy\\core\\fromnumeric.py:2389: FutureWarning: Method .ptp is deprecated and will be removed in a future version. Use numpy.ptp instead.\n",
            "  return ptp(axis=axis, out=out, **kwargs)\n",
            "C:\\ProgramData\\Anaconda3\\lib\\site-packages\\numpy\\core\\fromnumeric.py:2389: FutureWarning: Method .ptp is deprecated and will be removed in a future version. Use numpy.ptp instead.\n",
            "  return ptp(axis=axis, out=out, **kwargs)\n",
            "C:\\ProgramData\\Anaconda3\\lib\\site-packages\\numpy\\core\\fromnumeric.py:2389: FutureWarning: Method .ptp is deprecated and will be removed in a future version. Use numpy.ptp instead.\n",
            "  return ptp(axis=axis, out=out, **kwargs)\n",
            "C:\\ProgramData\\Anaconda3\\lib\\site-packages\\numpy\\core\\fromnumeric.py:2389: FutureWarning: Method .ptp is deprecated and will be removed in a future version. Use numpy.ptp instead.\n",
            "  return ptp(axis=axis, out=out, **kwargs)\n",
            "C:\\ProgramData\\Anaconda3\\lib\\site-packages\\numpy\\core\\fromnumeric.py:2389: FutureWarning: Method .ptp is deprecated and will be removed in a future version. Use numpy.ptp instead.\n",
            "  return ptp(axis=axis, out=out, **kwargs)\n",
            "C:\\ProgramData\\Anaconda3\\lib\\site-packages\\numpy\\core\\fromnumeric.py:2389: FutureWarning: Method .ptp is deprecated and will be removed in a future version. Use numpy.ptp instead.\n",
            "  return ptp(axis=axis, out=out, **kwargs)\n",
            "C:\\ProgramData\\Anaconda3\\lib\\site-packages\\numpy\\core\\fromnumeric.py:2389: FutureWarning: Method .ptp is deprecated and will be removed in a future version. Use numpy.ptp instead.\n",
            "  return ptp(axis=axis, out=out, **kwargs)\n"
          ],
          "name": "stderr"
        },
        {
          "output_type": "execute_result",
          "data": {
            "text/html": [
              "<div>\n",
              "<style scoped>\n",
              "    .dataframe tbody tr th:only-of-type {\n",
              "        vertical-align: middle;\n",
              "    }\n",
              "\n",
              "    .dataframe tbody tr th {\n",
              "        vertical-align: top;\n",
              "    }\n",
              "\n",
              "    .dataframe thead th {\n",
              "        text-align: right;\n",
              "    }\n",
              "</style>\n",
              "<table border=\"1\" class=\"dataframe\">\n",
              "  <thead>\n",
              "    <tr style=\"text-align: right;\">\n",
              "      <th></th>\n",
              "      <th>Coefficient</th>\n",
              "      <th>t statistic</th>\n",
              "      <th>p value</th>\n",
              "    </tr>\n",
              "  </thead>\n",
              "  <tbody>\n",
              "    <tr>\n",
              "      <td>smoker_yes</td>\n",
              "      <td>25963.419205</td>\n",
              "      <td>45.446283</td>\n",
              "      <td>2.195106e-273</td>\n",
              "    </tr>\n",
              "    <tr>\n",
              "      <td>smoker_no</td>\n",
              "      <td>-25963.419205</td>\n",
              "      <td>-45.446283</td>\n",
              "      <td>2.195106e-273</td>\n",
              "    </tr>\n",
              "    <tr>\n",
              "      <td>steps</td>\n",
              "      <td>-1.901539</td>\n",
              "      <td>-13.518104</td>\n",
              "      <td>4.021506e-39</td>\n",
              "    </tr>\n",
              "    <tr>\n",
              "      <td>bmi</td>\n",
              "      <td>646.265883</td>\n",
              "      <td>11.201184</td>\n",
              "      <td>6.736611e-28</td>\n",
              "    </tr>\n",
              "    <tr>\n",
              "      <td>age</td>\n",
              "      <td>209.526466</td>\n",
              "      <td>8.198486</td>\n",
              "      <td>5.652688e-16</td>\n",
              "    </tr>\n",
              "    <tr>\n",
              "      <td>children</td>\n",
              "      <td>-1211.244623</td>\n",
              "      <td>-3.991456</td>\n",
              "      <td>6.923796e-05</td>\n",
              "    </tr>\n",
              "    <tr>\n",
              "      <td>region_southeast</td>\n",
              "      <td>3192.341028</td>\n",
              "      <td>3.883687</td>\n",
              "      <td>1.079156e-04</td>\n",
              "    </tr>\n",
              "    <tr>\n",
              "      <td>sex_male</td>\n",
              "      <td>2155.033184</td>\n",
              "      <td>2.938477</td>\n",
              "      <td>3.354913e-03</td>\n",
              "    </tr>\n",
              "    <tr>\n",
              "      <td>sex_female</td>\n",
              "      <td>-2155.033184</td>\n",
              "      <td>-2.938477</td>\n",
              "      <td>3.354913e-03</td>\n",
              "    </tr>\n",
              "    <tr>\n",
              "      <td>region_northwest</td>\n",
              "      <td>-2370.553825</td>\n",
              "      <td>-2.771457</td>\n",
              "      <td>5.658030e-03</td>\n",
              "    </tr>\n",
              "    <tr>\n",
              "      <td>region_southwest</td>\n",
              "      <td>-1071.033604</td>\n",
              "      <td>-1.249310</td>\n",
              "      <td>2.117707e-01</td>\n",
              "    </tr>\n",
              "    <tr>\n",
              "      <td>region_northeast</td>\n",
              "      <td>3.825463</td>\n",
              "      <td>0.004455</td>\n",
              "      <td>9.964461e-01</td>\n",
              "    </tr>\n",
              "  </tbody>\n",
              "</table>\n",
              "</div>"
            ],
            "text/plain": [
              "                   Coefficient  t statistic        p value\n",
              "smoker_yes        25963.419205    45.446283  2.195106e-273\n",
              "smoker_no        -25963.419205   -45.446283  2.195106e-273\n",
              "steps                -1.901539   -13.518104   4.021506e-39\n",
              "bmi                 646.265883    11.201184   6.736611e-28\n",
              "age                 209.526466     8.198486   5.652688e-16\n",
              "children          -1211.244623    -3.991456   6.923796e-05\n",
              "region_southeast   3192.341028     3.883687   1.079156e-04\n",
              "sex_male           2155.033184     2.938477   3.354913e-03\n",
              "sex_female        -2155.033184    -2.938477   3.354913e-03\n",
              "region_northwest  -2370.553825    -2.771457   5.658030e-03\n",
              "region_southwest  -1071.033604    -1.249310   2.117707e-01\n",
              "region_northeast      3.825463     0.004455   9.964461e-01"
            ]
          },
          "metadata": {
            "tags": []
          },
          "execution_count": 14
        }
      ]
    },
    {
      "cell_type": "code",
      "metadata": {
        "id": "ie-crWlAxx6S"
      },
      "source": [],
      "execution_count": null,
      "outputs": []
    }
  ]
}